{
 "cells": [
  {
   "cell_type": "code",
   "execution_count": 77,
   "metadata": {},
   "outputs": [
    {
     "name": "stdout",
     "output_type": "stream",
     "text": [
      "181.00 derajat kelvin = -92.15 derajat celcius\n",
      "30.00 derajat celcius = 303.15 derajat kelvin\n",
      "30.00 derajat celcius = 86.00 derajat fahrenheit|181.00 derajat kelvin = -133.60 derajat fahrenheit\n",
      "141.00 derajat farnheit = 60.56 derajat celcius|141.00 derajat farnheit = 333.71 derajat kelvin\n"
     ]
    }
   ],
   "source": [
    "# convert suhu dari kelvin ke celcius\n",
    "KInput = float(input('Nilai suhu dalam derajat Kelvin'))\n",
    "CInput = float(input('Nilai suhu dalam derajat Celcius'))\n",
    "FInput = float(input('Nilai suhu dalam derajat Farnheit'))\n",
    "\n",
    "def convert(kelv):\n",
    "    cels = kelv-273.15\n",
    "    print('%.2f derajat kelvin = %.2f derajat celcius' %(kelv,cels))\n",
    "convert(KInput)\n",
    "\n",
    "# # convert suhu dari celcius ke kelvin\n",
    "\n",
    "def convert(cels):\n",
    "    kelv = cels+273.15\n",
    "    print('%.2f derajat celcius = %.2f derajat kelvin' %(cels,kelv))\n",
    "convert(CInput)\n",
    "\n",
    "\n",
    "# Buatlah sebuah function yang dapat mengkonversi suhu ke fahrenheit. Tambahkan parameter untuk memastikan bahwa argumen yang dimasukan adalah celcius atau kelvin. Panggil function yang pertama jika diperlukan.\n",
    "\n",
    "def convert(kelv,cels):\n",
    "    fahr = 1.8*(cels)+32\n",
    "    fahr2 = 1.8*((kelv)-273)+32\n",
    "    print('%.2f derajat celcius = %.2f derajat fahrenheit' %(cels,fahr),'%.2f derajat kelvin = %.2f derajat fahrenheit' %(kelv,fahr2), sep=\"|\")\n",
    "convert(KInput,CInput)\n",
    "\n",
    "# Buatlah sebuah function yang dapat mengkonversi suhu dari fahrenheit. Berikan argumen untuk memastikan bahwa outputnya adalah celcius atau kelvin.\n",
    "\n",
    "def convert(fahr):\n",
    "    cels2 = (fahr-32)/1.8\n",
    "    kelv2 = 5/9*(fahr-32)+273.15\n",
    "    print('%.2f derajat farnheit = %.2f derajat celcius' %(fahr,cels2),'%.2f derajat farnheit = %.2f derajat kelvin' %(fahr,kelv2), sep=\"|\")\n",
    "convert(FInput)\n",
    "\n",
    "\n",
    "# Berikan dokumentasi pada setiap baris kode yang kalian tulis.\n",
    "\n",
    "# def hitung(nilai1, nilai2, operasi):\n",
    "#     if operasi == 'tambah':\n",
    "#         print(nilai1 + nilai2)\n",
    "#     elif operasi == 'kali':\n",
    "#         print(nilai1 * nilai2)\n",
    "\n",
    "# hitung(1,2,'kali')\n",
    "    \n",
    "\n",
    "   \n"
   ]
  }
 ],
 "metadata": {
  "kernelspec": {
   "display_name": "Python 3.9.13 ('base')",
   "language": "python",
   "name": "python3"
  },
  "language_info": {
   "codemirror_mode": {
    "name": "ipython",
    "version": 3
   },
   "file_extension": ".py",
   "mimetype": "text/x-python",
   "name": "python",
   "nbconvert_exporter": "python",
   "pygments_lexer": "ipython3",
   "version": "3.9.13"
  },
  "orig_nbformat": 4,
  "vscode": {
   "interpreter": {
    "hash": "72ab49a3e513d1f1a38b8aa7e666a1d70bc8846665ce2987208c8023d9eff140"
   }
  }
 },
 "nbformat": 4,
 "nbformat_minor": 2
}
